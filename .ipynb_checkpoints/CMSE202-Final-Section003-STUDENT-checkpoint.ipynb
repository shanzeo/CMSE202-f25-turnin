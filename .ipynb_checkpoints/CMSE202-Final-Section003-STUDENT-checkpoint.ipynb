{
 "cells": [
  {
   "cell_type": "markdown",
   "id": "3def3efc",
   "metadata": {
    "tags": []
   },
   "source": [
    "# CMSE 202 Final Exam (Section 003 - Spring 2025)\n",
    "\n",
    "The goal of this exam is to give you the opportunity to test out some of the skills that you've developed this semester. In particular, you'll set up a GitHub repository folder, committing and pushing repository changes, downloading data with command line tools, performing some data analysis and writing a python class. You should find that you have all of the skills necessary to complete this exam!\n",
    "\n",
    "You are encouraged to look through the entire exam before you get started so that you can appropriately budget your time and understand the broad goals of the exam. Once you've read through it, try doing Parts 0 and 1 first so that you have your repository set up and you download all necessary data files as they will be necessary to complete the assigned tasks. Let your instructor know right away if you have problems downloading the data!\n",
    "\n",
    "The exam is set up so that even if you get stuck on one part there are opportunities to get points on the other parts, so consider jumping ahead if you feel like you aren't making progress and then come back later if you have time. If you have any questions during the exam, you may ask the instructor, the TA, or the LA privately: simply raise your hand and one of us will come over to you. \n",
    "\n",
    "\n",
    "**Important note about using online resources**: This exam is \"open internet\". That means that you can look up documentation, google how to accomplish certain Python tasks, etc. Being able to effectively use the internet for computational modeling and data science is a very important skill, so we want to make sure you have the opportunity to exercise that skill. **However: The use of any person-to-person communication software tools is absolutely not acceptable.** **Generative AI is allowed but you must provide the sources.** If you are seen accessing your email, using a collaborative cloud storage or document software (e.g. Slack, Google Documents, Teams), you will be at risk for receiving a zero on the exam.\n",
    "\n",
    "**Keep your eyes on your screen!** Unfortunately, there isn't enough space in the room for everyone to sit at their own table so please do your best to keep your eyes on your own screen. This exam is designed to give you the opportunity to show the instructor what you can do and you should hold yourself accountable for maintaining a high level of academic integrity. If any of the instructors observe suspicious behavior, you will, again, risk receiving a zero."
   ]
  },
  {
   "cell_type": "markdown",
   "id": "6b0b3d3a",
   "metadata": {},
   "source": [
    "---\n",
    "## Part 0: Academic integrity statement\n",
    "\n",
    "Read the following statement and edit the markdown text to put your name in the statement. This is your commitment to doing your own authentic work on this exam."
   ]
  },
  {
   "cell_type": "markdown",
   "id": "8e3dc4df",
   "metadata": {
    "pycharm": {
     "name": "#%% md\n"
    }
   },
   "source": [
    "> I, **INSERT NAME HERE**, affirm that this exam represents my own authetic work, without the use of any unpermitted aids or generative AIs or person-to-person communication. I understand that this exam an an opportunity to showcase my own progress in developing and improving my computational skills and have done my best to demonstrate those skills."
   ]
  },
  {
   "cell_type": "markdown",
   "id": "435ee396",
   "metadata": {
    "tags": []
   },
   "source": [
    "## Part 1: Add to your Git repository to track your progress on your exam (5 points total)\n",
    "\n",
    "Before you get to far along in the exam, you're going to add it to the `cmse202-s25-turnin` repository you created previously so that you can track your progress on the exam and preserve the final version that you turn in. In order to do this you need to\n",
    "\n",
    "1. Navigate to your `cmse202-s25-turnin` repository and create a new directory called `final`.\n",
    "2. Move this notebook into that **new directory** in your repository, then **add it and commit it to your repository**.\n",
    "3. Finally, to test that everything is working, \"git push\" the file so that it ends up in your GitHub repository.\n",
    "\n",
    "**Important**: Double check you've added your Professor and your TA as collaborators to your \"turnin\" respository (you should have done this previously).\n",
    "\n",
    "**Important**: Make sure that the version of this notebook that you are working on is the same one that you just added to your repository! If you are working on a different copy of the noteobok, **none of your changes will be tracked**!\n",
    "\n",
    "The file should now show up on your GitHub account in the `cmse202-s25-turnin` repository inside the `final` directory you just created.  Periodically, **you'll be asked to commit your changes to the repository and push them to the remote GitHub location**. It can be good to get into a habit of committing your changes any time you make a significant modification."
   ]
  },
  {
   "cell_type": "markdown",
   "id": "290bab71",
   "metadata": {},
   "source": [
    "&#9989; **Question 1.1  (1 point) Put the Git commands the instructor can clone your repository, including the URL.**:"
   ]
  },
  {
   "cell_type": "markdown",
   "id": "265b8550-2340-4163-8e5f-45e8c017f33b",
   "metadata": {},
   "source": [
    "&#9989; **Do this**:\n",
    "```\n",
    "Put the commands you used here (Do Not Delete the ```)\n",
    "```\n"
   ]
  },
  {
   "cell_type": "markdown",
   "id": "39b5c084",
   "metadata": {},
   "source": [
    "&#9989; **Question 1.2 (4 points)**: After completing each of Part 2, Part 3, Part 4, and Part 5 below, save your notebook, commit the changes to your Git repository using a descriptive commit message, and push the changes to GitHub. Note that there are large &#128721; **STOP** signs reminding you to do this after each part."
   ]
  },
  {
   "cell_type": "markdown",
   "id": "272d85f1-7bf1-4c4a-98de-51060383befb",
   "metadata": {},
   "source": [
    "---\n",
    "## Part 2: Binary classifier (18 points)\n",
    "\n",
    "<img src=\"https://i.ibb.co/DfJKhvdn/dataset-cover.jpg\" border=\"0\" align=\"center\" width=\"500\">\n",
    "image and data from Kaggle.com.\n",
    "\n",
    "&#9989; **Question 2.1 (1 point)**:\n",
    "Download the data file using `curl` from the URL: `https://raw.githubusercontent.com/huichiayu/cmse202-s25-supplemental_data/main/Final_Exam/Raisin_Dataset.csv` \n",
    "\n",
    "Put the command you used to download the files in the cell below."
   ]
  },
  {
   "cell_type": "code",
   "execution_count": null,
   "id": "f5daa790-a402-4059-b855-e7776c9f4073",
   "metadata": {},
   "outputs": [],
   "source": [
    "### Put your code here\n"
   ]
  },
  {
   "cell_type": "markdown",
   "id": "4752e60f-ad09-4e66-972e-b216691b6873",
   "metadata": {},
   "source": [
    "&#9989; **Question 2.2 (1 point)**:\n",
    "Load up the data using Pandas. Examine what features and labels are using `head()`. "
   ]
  },
  {
   "cell_type": "code",
   "execution_count": null,
   "id": "79882fdf-2f2f-4e3f-9c98-c6fd87888a0d",
   "metadata": {},
   "outputs": [],
   "source": [
    "### Put your code here\n"
   ]
  },
  {
   "cell_type": "markdown",
   "id": "93c40b0d-18ba-4da3-abd2-ba0179ffc887",
   "metadata": {},
   "source": [
    "&#9989; **Question 2.3 (1 point)**:\n",
    "Since the `Area` is just serial numbers. Drop this column. "
   ]
  },
  {
   "cell_type": "code",
   "execution_count": null,
   "id": "f30e21de-af8f-4cad-aed1-f5e80c1b3652",
   "metadata": {},
   "outputs": [],
   "source": [
    "### Put your code here\n"
   ]
  },
  {
   "cell_type": "markdown",
   "id": "b64ccc27-2f6d-426c-903e-6fadf454a301",
   "metadata": {},
   "source": [
    "&#9989; **Question 2.4 (3 point)**: Use Seaborn to make a visualization of PairGrid of these numeric features. Your visualization should present each of the feature pair and use different colors for the two classes. This should all be a single figure. For example, something like the figure below.\n",
    "\n",
    "<img src=\"https://i.ibb.co/0pzV2dnw/Pair-Grid-eg.jpg\" border=\"0\" align=\"center\" width=\"500\">\n",
    "image from internet\n",
    "\n",
    "\n"
   ]
  },
  {
   "cell_type": "code",
   "execution_count": null,
   "id": "bf3a3be3-7e20-42c4-a7dd-2284f09f79d3",
   "metadata": {},
   "outputs": [],
   "source": [
    "### Put your code here\n"
   ]
  },
  {
   "cell_type": "markdown",
   "id": "b23f4753-15ae-4205-b9d9-74ca5ef9265f",
   "metadata": {},
   "source": [
    "&#9989; **Question 2.5 (2 point)**: \n",
    "Draw a heat map of correlation factors between these features."
   ]
  },
  {
   "cell_type": "code",
   "execution_count": null,
   "id": "336abb7e-a21b-4f31-8b55-0b1a93ccc9e0",
   "metadata": {},
   "outputs": [],
   "source": [
    "### Put your code here\n"
   ]
  },
  {
   "cell_type": "markdown",
   "id": "5b79ef0d-b028-48dc-90d0-8483f9de10ba",
   "metadata": {},
   "source": [
    "&#9989; **Question 2.6 (3 point)**: \n",
    "Perimeter and MajorAxisLength looks highly correlated. Use OLS in `statsmodel` to fit a linear regression model and draw the result line with scatter points in a figure. \n"
   ]
  },
  {
   "cell_type": "code",
   "execution_count": null,
   "id": "36a06b0a-f13a-41f1-834d-11a8b0a9acb8",
   "metadata": {},
   "outputs": [],
   "source": [
    "### Put your code here\n"
   ]
  },
  {
   "cell_type": "markdown",
   "id": "cb4bc062-0547-4f8e-96bd-782029a2e9d6",
   "metadata": {},
   "source": [
    "&#9989; **Question 2.7 (2 point)**: \n",
    "It seems that ConvexArea ($y$) has a quadratic relationship with Perimeter ($x$).\n",
    "$$y=c_0 + c_1 x + c_2 x^2$$\n",
    "Use `curve_fit` in `scipy` library to fit the three coefficients, $c_0$, $c_1$, and $c_2$. Plot the obtained curve with the scatter points."
   ]
  },
  {
   "cell_type": "code",
   "execution_count": null,
   "id": "7a96cc77-6167-4dfd-8e8d-a96b00b556e9",
   "metadata": {},
   "outputs": [],
   "source": [
    "### Put your code here\n"
   ]
  },
  {
   "cell_type": "markdown",
   "id": "6de6c0bb-6675-4cd9-8a69-6f43f1bcabe2",
   "metadata": {},
   "source": [
    "\n",
    "**Build a logistic regression classifier using `statsmodel`.**\n",
    "\n",
    "* Convert the text label of class to integer numeric as `0` or `1`.\n",
    "* Set a train_test split to `test_size = 0.25` and `random_state = 42`.\n",
    "* Train your model.\n",
    "* Print out the accuracy of test_set.\n",
    "\n",
    "&#9989; **Question 2.8 (1 point)**: Do you need to add a constant to the feature array? Why?"
   ]
  },
  {
   "cell_type": "markdown",
   "id": "10c5dbf7-7514-4b42-8503-72bc82f53e2f",
   "metadata": {},
   "source": [
    "&#9989; **Do this**:\n",
    "```\n",
    "Put the commands you used here (Do Not Delete the ```)\n",
    "```"
   ]
  },
  {
   "cell_type": "markdown",
   "id": "c4b7325c-186f-43db-a5f2-587aa6084582",
   "metadata": {},
   "source": [
    "&#9989; **Question 2.9 (3 point)**: Put your code in the cell below.\n"
   ]
  },
  {
   "cell_type": "code",
   "execution_count": null,
   "id": "04186c29-9f2b-45e8-b293-f7eb03ac7447",
   "metadata": {},
   "outputs": [],
   "source": [
    "### Put your code here\n"
   ]
  },
  {
   "cell_type": "markdown",
   "id": "c73b4770-8468-40ae-b3e8-35e6a66082d3",
   "metadata": {},
   "source": [
    "&#9989; **Question 2.10 (1 point)**: Explain What a smaller P means.\n"
   ]
  },
  {
   "cell_type": "markdown",
   "id": "7f893b99-1fb8-4499-bfc8-06ef614d1d05",
   "metadata": {},
   "source": [
    "&#9989; **Do this**:\n",
    "```\n",
    "Put the commands you used here (Do Not Delete the ```)\n",
    "```"
   ]
  },
  {
   "cell_type": "markdown",
   "id": "2f4e0432-4614-441b-8996-8e3b9869ced4",
   "metadata": {},
   "source": [
    "---\n",
    "### &#128721; STOP (1 point)\n",
    "**Pause to commit your changes to your Git repository!**\n",
    "\n",
    "Take a moment to save your notebook, commit  and push the changes to your Git repository.\n",
    "\n",
    "---"
   ]
  },
  {
   "cell_type": "markdown",
   "id": "94978de3-1cbd-4594-bd73-d78adba346a8",
   "metadata": {},
   "source": [
    "## Part 3: Principal component analysis (6 points)\n",
    "\n",
    "&#9989; **Question 3.1 (2 point):** Explain what principal components are. How is it related to correlation matrix? Why principal component analysis (PCA) allows a good classification using less feature?"
   ]
  },
  {
   "cell_type": "markdown",
   "id": "c821104f-ee72-41b8-842f-1be09024d8be",
   "metadata": {},
   "source": [
    "&#9989; **Do this**:\n",
    "```\n",
    "Put your answer here (Do Not Delete the ```)\n",
    "```"
   ]
  },
  {
   "cell_type": "markdown",
   "id": "ea028f24-27f0-4a88-8766-224dd56e4b30",
   "metadata": {},
   "source": [
    "&#9989; **Question 3.2 (4 point):** Perform a PCA of the raisin data in Part 2. Take the first 2 PCAs and run logistic regression using these 2 PCAs. Print out the accuracy."
   ]
  },
  {
   "cell_type": "code",
   "execution_count": null,
   "id": "a6d4767b-8c58-43c1-a94e-1a69bcbd7289",
   "metadata": {},
   "outputs": [],
   "source": [
    "### Put your code here\n"
   ]
  },
  {
   "cell_type": "markdown",
   "id": "2a33af2b",
   "metadata": {},
   "source": [
    "---\n",
    "## Part 4: SVM classifier (18 points total)\n",
    "\n",
    "You will work with a data set that contains measured bio-metrics of penguins in Antarctica. This data set is modified from a research article (https://journals.plos.org/plosone/article?id=10.1371/journal.pone.0090081).\n",
    "\n",
    "<!--\n",
    "<img src=\"\n",
    "https://pbs.twimg.com/media/EaAWkZ0U4AA1CQf?format=jpg&name=4096x4096\" border=\"0\" align=\"center\" width=\"600\">\n",
    "-->\n",
    "\n",
    "<img src=\"https://pbs.twimg.com/media/EaAXQn8U4AAoKUj?format=jpg&name=4096x4096\" border=\"0\" align=\"center\" width=\"400\">\n",
    "images found online.\n",
    "\n",
    "\n",
    "&#9989; **Question 4.1 (1 point)**: \n",
    "\n",
    "* Use `curl` to download the data set from the URL: `https://raw.githubusercontent.com/huichiayu/cmse202-s25-supplemental_data/main/Final_Exam/Penguin_data.csv`\n",
    "* Examine the data using `head()`.\n",
    "* How many samples are in this data set?\n",
    "* How many species of penguins are in this data set?"
   ]
  },
  {
   "cell_type": "code",
   "execution_count": null,
   "id": "acd32e74",
   "metadata": {},
   "outputs": [],
   "source": [
    "### Put your code here:\n"
   ]
  },
  {
   "cell_type": "markdown",
   "id": "d86e79ad",
   "metadata": {},
   "source": [
    "&#9989; **Question 4.2 (1 point)**: Draw a scatter plot of Island versus Species as the horizontal and vertical axes, respectively. Use different colors for different penguin species. \n"
   ]
  },
  {
   "cell_type": "code",
   "execution_count": null,
   "id": "7fa9bffb",
   "metadata": {},
   "outputs": [],
   "source": [
    "### Put your code here:\n"
   ]
  },
  {
   "cell_type": "markdown",
   "id": "2e90d1bd",
   "metadata": {},
   "source": [
    "&#9989; **Question 4.3 (1 point)**:Based on the plot above, which species lives on all islands?\n"
   ]
  },
  {
   "cell_type": "markdown",
   "id": "c8d90ef9",
   "metadata": {},
   "source": [
    "&#9989; **Do this**:\n",
    "```\n",
    "Put your answer here (Do Not Delete the ```)\n",
    "```\n"
   ]
  },
  {
   "cell_type": "markdown",
   "id": "2eb28b5b-bcc3-4501-86ad-1a5fc0807af0",
   "metadata": {},
   "source": [
    "&#9989; **Question 4.4 (1 point)**: There are text-string features and numeric features. Now let's extract the text-string features for classification: create a new data frame that contains only `Island`, `Clutch completion`, `Sex`, and `Species`. For calculations, convert non-numeric features to integer numerics."
   ]
  },
  {
   "cell_type": "code",
   "execution_count": null,
   "id": "573d1cd1",
   "metadata": {},
   "outputs": [],
   "source": [
    "### Put your code here\n"
   ]
  },
  {
   "cell_type": "markdown",
   "id": "3af20927-991b-4239-96dc-f9403ffc3a82",
   "metadata": {},
   "source": [
    "&#9989; **Question 4.5 (3 point)**: Build a SVM classifier from sklearn for the data from the cell above.\n",
    "\n",
    "* Again, train_test split with `test_size = 0.25` and `random_state = 42`.\n",
    "* Use `linear` kernel and default value for `C`.\n",
    "* Train your model.\n",
    "* Examine the accuracy of your SVC.\n",
    "* Draw a confusion matrix."
   ]
  },
  {
   "cell_type": "code",
   "execution_count": null,
   "id": "830c5cd5-b922-4100-ac67-7d79cc9b4148",
   "metadata": {},
   "outputs": [],
   "source": [
    "### Put your code here\n"
   ]
  },
  {
   "cell_type": "markdown",
   "id": "b166e9ba-25fe-412f-b0b6-285dff29ff4d",
   "metadata": {},
   "source": [
    "&#9989; **Question 4.6 (2 point)**:  Explain what `precision` and `recall` in the report are."
   ]
  },
  {
   "cell_type": "markdown",
   "id": "ae16d351-08b3-4c27-aeaf-6fa830a21454",
   "metadata": {},
   "source": [
    "&#9989; **Do this**:\n",
    "```\n",
    "Put your answer here (Do Not Delete the ```)\n",
    "```"
   ]
  },
  {
   "cell_type": "markdown",
   "id": "e13e0a9f-a863-4c31-a371-6c30d748f9f2",
   "metadata": {},
   "source": [
    "&#9989; **Question 4.7 (1 point)**: \n",
    "It seems using text-string features, such as Island and ClutchCompletion, may not do a good job in classification. Let's extract numeric bio-metrics for SVM classifier.\n",
    "* Extract `CulmenLength(mm)`, `CulmenDepth(mm)`, `FlipperLength(mm)`, `BodyMass(g)`, and `Species` to a new data frame."
   ]
  },
  {
   "cell_type": "code",
   "execution_count": null,
   "id": "aabd1186-8d51-4b80-bdd6-541bca6aa596",
   "metadata": {},
   "outputs": [],
   "source": [
    "### Put your code here\n"
   ]
  },
  {
   "cell_type": "markdown",
   "id": "a27d5d02-0c59-4aa4-90ce-076854ada081",
   "metadata": {},
   "source": [
    "&#9989; **Question 4.8 (3 point)**: Build a SVM classifier from sklearn for the data from the cell above.\n",
    "\n",
    "* Again, train_test split with `test_size = 0.25` and `random_state = 42`.\n",
    "* Use `linear` kernel and default value for `C`.\n",
    "* Train your model.\n",
    "* Examine the accuracy of your SVC.\n",
    "* Draw a confusion matrix.\n"
   ]
  },
  {
   "cell_type": "code",
   "execution_count": null,
   "id": "2493c026-ea9b-467b-a4e0-f693acff5761",
   "metadata": {},
   "outputs": [],
   "source": [
    "### Put your code here\n"
   ]
  },
  {
   "cell_type": "markdown",
   "id": "282bd248-9434-49b6-83e4-03ca850807fb",
   "metadata": {},
   "source": [
    "&#9989; **Question 4.9 (1 point)**: Do you have a better classification result? Why?"
   ]
  },
  {
   "cell_type": "markdown",
   "id": "8acf861c-76ff-49c1-b7ef-8532962b85b3",
   "metadata": {},
   "source": [
    "&#9989; **Do this**:\n",
    "```\n",
    "Put your answer here (Do Not Delete the ```)\n",
    "```"
   ]
  },
  {
   "cell_type": "markdown",
   "id": "590f4bf5-07fd-4c4f-a388-afaee679e7c3",
   "metadata": {},
   "source": [
    "&#9989; **Question 4.10 (4 point)**: Let's perform a GridSearch to see whether the accuracy can be improved. \n",
    "\n",
    "* Set param_grid to be `C`: 1e-2, 1e-1, 1e0, 1e1; `gamma`: 1e-4, 1e-3, 1e-2, 1e-1, 1e0; and `kernel`: linear, rbf.\n",
    "* Print classification_report\n",
    "* Draw a confunsion matrix"
   ]
  },
  {
   "cell_type": "code",
   "execution_count": null,
   "id": "2efa332c-702f-41ec-843f-5687432d3d64",
   "metadata": {},
   "outputs": [],
   "source": [
    "### Put your code here\n"
   ]
  },
  {
   "cell_type": "markdown",
   "id": "c7fb929b",
   "metadata": {
    "jp-MarkdownHeadingCollapsed": true,
    "tags": []
   },
   "source": [
    "---\n",
    "### &#128721; STOP (1 point)\n",
    "**Pause to commit your changes to your Git repository!**\n",
    "\n",
    "Take a moment to save your notebook, commit  and push the changes to your Git repository.\n",
    "\n",
    "---"
   ]
  },
  {
   "cell_type": "markdown",
   "id": "5e8e38cf-1f3c-4711-b90a-227424e39219",
   "metadata": {},
   "source": [
    "\n",
    "## Part 5: Agent-based modeling (8 points total)\n",
    "\n",
    "Here, we will use ABM to simulate zombie apocalypse. We have 2 classes: `zombie` and `human`. These classes are functioning. You do not need to modify them.\n",
    "\n",
    "&#9989; **Question 5.1 (1 point)**: Use curl to download the two images <img src=\"https://i.ibb.co/2089D62D/human.jpg\" border=\"0\" align=\"center\" width=\"60\"> and <img src=\"https://i.ibb.co/3ymHgtgQ/zombie.jpg\" border=\"0\" align=\"center\" width=\"60\"> from `https://i.ibb.co/2089D62D/human.jpg` and `https://i.ibb.co/3ymHgtgQ/zombie.jpg`, respectively. Make sure the image files are in the same folder with your notebook file.\n",
    "\n",
    "image from internet"
   ]
  },
  {
   "cell_type": "code",
   "execution_count": null,
   "id": "0c3822e5-3038-4dd4-bb50-b21ef778abc6",
   "metadata": {},
   "outputs": [],
   "source": [
    "### Put your code here\n"
   ]
  },
  {
   "cell_type": "markdown",
   "id": "4f8f11fd-6617-4fee-b8a7-ede1d1bdc38b",
   "metadata": {},
   "source": [
    "&#9989; **Do this**: Load necessary libraries in the two cells below."
   ]
  },
  {
   "cell_type": "code",
   "execution_count": null,
   "id": "3f32bc95-7315-417c-bdf0-a777ef8eb485",
   "metadata": {},
   "outputs": [],
   "source": [
    "import random \n",
    "import numpy as np\n",
    "import math\n",
    "import matplotlib.pyplot as plt\n",
    "import time  \n",
    "from IPython.display import display, clear_output"
   ]
  },
  {
   "cell_type": "code",
   "execution_count": null,
   "id": "99b871dc-29f1-4b6f-82b5-01392067872d",
   "metadata": {},
   "outputs": [],
   "source": [
    "from matplotlib.offsetbox import OffsetImage, AnnotationBbox\n",
    "from matplotlib.cbook import get_sample_data\n",
    "\n",
    "def imscatter(x, y, image, ax=None, zoom=1):\n",
    "    if ax is None:\n",
    "        ax = plt.gca()\n",
    "    try:\n",
    "        image = plt.imread(image)\n",
    "    except TypeError:\n",
    "        # Likely already an array...\n",
    "        pass\n",
    "    im = OffsetImage(image, zoom=zoom)\n",
    "    x, y = np.atleast_1d(x, y)\n",
    "    artists = []\n",
    "    for x0, y0 in zip(x, y):\n",
    "        ab = AnnotationBbox(im, (x0, y0), xycoords='data', \\\n",
    "                            frameon=False)\n",
    "        artists.append(ax.add_artist(ab))\n",
    "    ax.update_datalim(np.column_stack([x, y]))\n",
    "    ax.autoscale()\n",
    "    return artists"
   ]
  },
  {
   "cell_type": "markdown",
   "id": "997b74ba-60c0-4d78-a2b0-5de010f8fcb5",
   "metadata": {},
   "source": [
    "**Human class**"
   ]
  },
  {
   "cell_type": "code",
   "execution_count": null,
   "id": "1e99f980-00d4-443f-a751-d5314fc013ab",
   "metadata": {},
   "outputs": [],
   "source": [
    "class human():\n",
    "    \n",
    "    ## initiate and parameters\n",
    "    def __init__(self, roam_range, initial_x, initial_y, \\\n",
    "                 lower_bond, upper_bond, image_path):\n",
    "        self.range = roam_range\n",
    "        self.lw = lower_bond\n",
    "        self.up = upper_bond\n",
    "        self.image_path = image_path\n",
    "        self.x = initial_x\n",
    "        self.y = initial_y    \n",
    "\n",
    "    ## draw images  \n",
    "    def draw(self):\n",
    "        imscatter(self.x, self.y, self.image_path, zoom=0.3)  \n",
    "        \n",
    "    ## random roaming  \n",
    "    def roam(self):  \n",
    "        self.dx = random.randint(-self.range, self.range)\n",
    "        self.dy = random.randint(-self.range, self.range)\n",
    "    \n",
    "        # Clamp x and reverse direction if out of bounds\n",
    "        if self.x <= self.lw:\n",
    "            self.x = self.lw\n",
    "            self.dx = abs(self.dx)\n",
    "        elif self.x >= self.up:\n",
    "            self.x = self.up\n",
    "            self.dx = -abs(self.dx)\n",
    "    \n",
    "        # Clamp y and reverse direction if out of bounds\n",
    "        if self.y <= self.lw:\n",
    "            self.y = self.lw\n",
    "            self.dy = abs(self.dy)\n",
    "        elif self.y >= self.up:\n",
    "            self.y = self.up\n",
    "            self.dy = -abs(self.dy)\n",
    "    \n",
    "        self.x += self.dx\n",
    "        self.y += self.dy        "
   ]
  },
  {
   "cell_type": "markdown",
   "id": "2f851663-318a-4f77-b866-d0e2cb2b7184",
   "metadata": {},
   "source": [
    "**Zombie class** \n",
    "\n",
    "&#9989; **Question 5.2 (2 point)**:\n",
    "Read through the code and explain what part I, part II, part III, and part IV are doing."
   ]
  },
  {
   "cell_type": "markdown",
   "id": "79adea5e-fa58-401b-ae92-822c071ea92c",
   "metadata": {},
   "source": [
    "&#9989; **Do this**:\n",
    "```\n",
    "Put your answer here (Do Not Delete the ```)\n",
    "```"
   ]
  },
  {
   "cell_type": "code",
   "execution_count": null,
   "id": "d78ed906-283e-4a36-b5d9-96396fd2f58d",
   "metadata": {},
   "outputs": [],
   "source": [
    "class zombie():\n",
    "    \n",
    "    ## initiate and parameters\n",
    "    def __init__(self, roam_range, hunt_radius, kill_rate, \\\n",
    "                 initial_x, initial_y, lower_bond, upper_bond, image_path):\n",
    "        self.range = roam_range\n",
    "        self.radius = hunt_radius\n",
    "        self.kr = kill_rate\n",
    "        self.x = initial_x\n",
    "        self.y = initial_y\n",
    "        self.lw = lower_bond\n",
    "        self.up = upper_bond\n",
    "        self.image_path = image_path\n",
    "\n",
    "    ## draw images    \n",
    "    def draw(self):\n",
    "        imscatter(self.x, self.y, self.image_path, zoom=0.3)  \n",
    "        \n",
    "    ## random roaming   \n",
    "    def roam(self):\n",
    "        self.dx = random.randint(-self.range, self.range)\n",
    "        self.dy = random.randint(-self.range, self.range)\n",
    "    \n",
    "        # Clamp x and reverse direction if out of bounds\n",
    "        if self.x <= self.lw:\n",
    "            self.x = self.lw\n",
    "            self.dx = abs(self.dx)\n",
    "        elif self.x >= self.up:\n",
    "            self.x = self.up\n",
    "            self.dx = -abs(self.dx)\n",
    "    \n",
    "        # Clamp y and reverse direction if out of bounds\n",
    "        if self.y <= self.lw:\n",
    "            self.y = self.lw\n",
    "            self.dy = abs(self.dy)\n",
    "        elif self.y >= self.up:\n",
    "            self.y = self.up\n",
    "            self.dy = -abs(self.dy)\n",
    "    \n",
    "        self.x += self.dx\n",
    "        self.y += self.dy\n",
    "\n",
    "    ## zombie hunts human\n",
    "    def hunt(self, human):\n",
    "        ## part I\n",
    "        self.h_x = human.x\n",
    "        self.h_y = human.y\n",
    "\n",
    "        ## Part II\n",
    "        dst = math.sqrt((self.x-self.h_x)**2 + (self.y-self.h_y)**2)\n",
    "        \n",
    "        catch = False \n",
    "        ## Part III\n",
    "        if dst < self.radius:\n",
    "            if random.random() < self.kr:\n",
    "                catch = True\n",
    "        return catch\n",
    "        \n",
    "    ## Part IV    \n",
    "    def infect(self):\n",
    "        new_zombie = zombie(self.range, self.radius, self.kr, \\\n",
    "                            self.x, self.y, self.lw, self.up, \\\n",
    "                            self.image_path) \n",
    "        return new_zombie\n",
    "      "
   ]
  },
  {
   "cell_type": "markdown",
   "id": "1b506ab1-5113-4080-a48e-d2b2cfaffdf3",
   "metadata": {},
   "source": [
    "**The field where humans and zombies roam**\n",
    "\n",
    "&#9989; **Question 5.3 (2 point)**:\n",
    "Read through the code and fill up the 4 `??` with code comments in the region between arrows.\n"
   ]
  },
  {
   "cell_type": "code",
   "execution_count": null,
   "id": "c132cef7-050d-49a7-b19f-ed6625d44cc6",
   "metadata": {},
   "outputs": [],
   "source": [
    "## lower and upper bonds of the field\n",
    "lowerB = 0\n",
    "upperB = 100\n",
    "\n",
    "## initialize zombie and human classes\n",
    "zombies = []\n",
    "for _ in range(5):\n",
    "    ix = random.randint(lowerB, upperB)\n",
    "    iy = random.randint(lowerB, upperB)      \n",
    "    wolf = zombie(2, 3, 0.85, ix, iy, lowerB, upperB, 'zombie.jpg')\n",
    "    zombies.append(wolf)\n",
    "\n",
    "humans = []\n",
    "for _ in range(8):\n",
    "    ix = random.randint(lowerB, upperB)\n",
    "    iy = random.randint(lowerB, upperB)   \n",
    "    sheep = human(3, ix, iy, lowerB, upperB, 'human.jpg')\n",
    "    humans.append(sheep)\n",
    "    \n",
    "\n",
    "new_zombies = []\n",
    "z_tmp = []\n",
    "\n",
    "\n",
    "## number of time iterations\n",
    "nstep = 100\n",
    "\n",
    "## iterate \n",
    "for d in range(nstep):\n",
    "\n",
    "    # <=== for plotting, do not change\n",
    "    fig, ax = plt.subplots(figsize=(8, 8))\n",
    "    ax.set_aspect('equal', adjustable='box')\n",
    "    ax.set_xlim(lowerB, upperB)\n",
    "    ax.set_ylim(lowerB, upperB)   \n",
    "    # ===>\n",
    "\n",
    "\n",
    "    \n",
    "    z_tmp = zombies\n",
    "    \n",
    "    survivors = []\n",
    "    ## loop over human classes\n",
    "    for h in range(np.size(humans)):\n",
    "        hm = humans[h]     \n",
    "\n",
    "\n",
    "        ## ===> \n",
    "        ## ??\n",
    "        for z in range(np.size(zombies)):\n",
    "            zb = zombies[z] \n",
    "            ## ??\n",
    "            catch = zb.hunt(hm)   \n",
    "            \n",
    "            ## ??\n",
    "            if catch:\n",
    "                new_z = zb.infect()\n",
    "                break\n",
    "        \n",
    "        ## ??\n",
    "        if catch:\n",
    "            del hm\n",
    "            z_tmp.append(new_z)\n",
    "        else:\n",
    "            survivors.append(hm)\n",
    "        ## <===    \n",
    "    \n",
    "    ## replace humans list with survived ones\n",
    "    humans.clear\n",
    "    humans = survivors \n",
    "\n",
    "    ## update zombies list\n",
    "    zombies.clear\n",
    "    zombies = z_tmp\n",
    "\n",
    "    ## zombies and humans roam\n",
    "    for h1 in humans:\n",
    "        h1.roam()\n",
    "        \n",
    "    for z1 in zombies:\n",
    "        z1.roam()\n",
    "\n",
    "    # visualization\n",
    "    if d%2 == 1:\n",
    "        for h in humans:\n",
    "            h.draw() \n",
    "\n",
    "        for z in zombies:\n",
    "            z.draw()\n",
    "\n",
    "    \n",
    "    # <=== for plotting, do not change\n",
    "    clear_output(wait=True) # Clear output for dynamic display\n",
    "    display(fig)            # Reset display\n",
    "    plt.close(fig)          # Prevents memory leak\n",
    "    time.sleep(0.005)\n",
    "    # ===>\n",
    "\n",
    "\n",
    "print('humans:', len(humans), ' zombies:', len(zombies))    "
   ]
  },
  {
   "cell_type": "markdown",
   "id": "1eb13411-29fa-4ad9-888a-ddb30bfd3dcd",
   "metadata": {},
   "source": [
    "&#9989; **Do this**: Add a few lines of code to the Field code above to record the human and zombie population over time. \n",
    "\n",
    "&#9989; **Question 5.4 (3 point)**: \n",
    "* Run a simulation that starts with 30 humans and 3 zombie over 300 iterations. If plotting in the code above takes too much computer power, you can comment out the plotting functions.\n",
    "* Over plot a time versus human population and zombie population curves."
   ]
  },
  {
   "cell_type": "code",
   "execution_count": null,
   "id": "e097d2d2-0948-40e5-9707-eedd5eff8c8a",
   "metadata": {},
   "outputs": [],
   "source": [
    "### Put your code of plotting here\n",
    "\n"
   ]
  },
  {
   "cell_type": "markdown",
   "id": "14435d84-82d4-4ffc-82b9-3188de6c7103",
   "metadata": {},
   "source": [
    "---\n",
    "### &#128721; STOP (1 point)\n",
    "**Pause to commit your changes to your Git repository!**\n",
    "\n",
    "Take a moment to save your notebook, commit  and push the changes to your Git repository.\n",
    "\n",
    "---"
   ]
  },
  {
   "cell_type": "markdown",
   "id": "868efbc9",
   "metadata": {
    "jp-MarkdownHeadingCollapsed": true,
    "tags": []
   },
   "source": [
    "## You're done! Congrats on finishing your CMSE 202 Final exam!\n",
    "\n",
    "Make sure all of your changes to your repository are committed and pushed to GitHub. Also upload a copy of this notebook to the dropbox on D2L in case something went wrong with your repository or if you couldn't get the repository to work."
   ]
  }
 ],
 "metadata": {
  "kernelspec": {
   "display_name": "Python 3.11 (default)",
   "language": "python",
   "name": "python3"
  },
  "language_info": {
   "codemirror_mode": {
    "name": "ipython",
    "version": 3
   },
   "file_extension": ".py",
   "mimetype": "text/x-python",
   "name": "python",
   "nbconvert_exporter": "python",
   "pygments_lexer": "ipython3",
   "version": "3.11.11"
  }
 },
 "nbformat": 4,
 "nbformat_minor": 5
}
